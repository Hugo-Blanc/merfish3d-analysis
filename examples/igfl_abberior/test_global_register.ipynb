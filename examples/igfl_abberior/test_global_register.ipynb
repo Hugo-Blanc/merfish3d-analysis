{
 "cells": [
  {
   "cell_type": "code",
   "execution_count": 1,
   "id": "b22e4cab",
   "metadata": {},
   "outputs": [
    {
     "name": "stderr",
     "output_type": "stream",
     "text": [
      "/home/hugob/miniforge3/envs/merfish3d/lib/python3.12/site-packages/pycudadecon/_libwrap.py:44: UserWarning: Unable to find function: camcor_interface_init in libcudaDecon\n",
      "  @lib.function\n",
      "/home/hugob/miniforge3/envs/merfish3d/lib/python3.12/site-packages/pycudadecon/_libwrap.py:51: UserWarning: Unable to find function: camcor_interface in libcudaDecon\n",
      "  @lib.function\n"
     ]
    }
   ],
   "source": [
    "from merfish3danalysis.qi2labDataStore import qi2labDataStore\n",
    "from merfish3danalysis.DataRegistration import DataRegistration\n",
    "from pathlib import Path\n",
    "import numpy as np\n",
    "import gc\n",
    "from tqdm import tqdm\n",
    "from tifffile import TiffWriter\n",
    "from typing import Optional\n",
    "\n",
    "from multiview_stitcher import spatial_image_utils as si_utils\n",
    "from multiview_stitcher import msi_utils, registration, fusion\n",
    "import dask.diagnostics\n",
    "import dask.array as da\n"
   ]
  },
  {
   "cell_type": "code",
   "execution_count": 2,
   "id": "bb6d4702",
   "metadata": {},
   "outputs": [
    {
     "name": "stderr",
     "output_type": "stream",
     "text": [
      "WARNING: could not connect to display localhost:0.0\n",
      "WARNING: Could not load the Qt platform plugin \"xcb\" in \"\" even though it was found.\n"
     ]
    },
    {
     "ename": "",
     "evalue": "",
     "output_type": "error",
     "traceback": [
      "\u001b[1;31mThe Kernel crashed while executing code in the current cell or a previous cell. \n",
      "\u001b[1;31mPlease review the code in the cell(s) to identify a possible cause of the failure. \n",
      "\u001b[1;31mClick <a href='https://aka.ms/vscodeJupyterKernelCrash'>here</a> for more info. \n",
      "\u001b[1;31mView Jupyter <a href='command:jupyter.viewOutput'>log</a> for further details."
     ]
    }
   ],
   "source": [
    "import napari \n",
    "\n",
    "viewer = napari.Viewer(ndisplay=3, show=True)"
   ]
  },
  {
   "cell_type": "code",
   "execution_count": 35,
   "id": "f572576a",
   "metadata": {},
   "outputs": [],
   "source": [
    "root_path = Path(r\"/mnt/d/EQUIPEX/Data/20250404_Abberior_Merfish_7C\")\n",
    "\n",
    "# initialize datastore\n",
    "datastore_path = root_path / Path(r\"qi2labdatastore\")\n",
    "datastore = qi2labDataStore(datastore_path)"
   ]
  },
  {
   "cell_type": "code",
   "execution_count": 36,
   "id": "643fd077",
   "metadata": {},
   "outputs": [],
   "source": [
    "# load tile positions\n",
    "for tile_idx, tile_id in enumerate(datastore.tile_ids):\n",
    "    round_id = datastore.round_ids[0]\n",
    "    tile_position_zyx_um = datastore.load_local_stage_position_zyx_um(\n",
    "        tile_id, round_id\n",
    "    )"
   ]
  },
  {
   "cell_type": "code",
   "execution_count": 37,
   "id": "77e2fca5",
   "metadata": {},
   "outputs": [
    {
     "name": "stderr",
     "output_type": "stream",
     "text": [
      "tile: 100%|██████████| 6/6 [00:07<00:00,  1.27s/it]\n"
     ]
    }
   ],
   "source": [
    "# convert local tiles from first round to multiscale spatial images\n",
    "msims = []\n",
    "for tile_idx, tile_id in enumerate(tqdm(datastore.tile_ids, desc=\"tile\")):\n",
    "    round_id = datastore.round_ids[0]\n",
    "\n",
    "    voxel_zyx_um = datastore.voxel_size_zyx_um\n",
    "\n",
    "    scale = {\"z\": voxel_zyx_um[0], \"y\": voxel_zyx_um[1], \"x\": voxel_zyx_um[1]}\n",
    "\n",
    "    tile_stage_position_zyx_um, tile_affine_zyx_px = datastore.load_local_stage_position_zyx_um(\n",
    "        tile_id, round_id\n",
    "    )\n",
    "\n",
    "    tile_grid_positions = {\n",
    "        \"z\": np.round(tile_stage_position_zyx_um[0], 2),\n",
    "        \"y\": np.round(tile_stage_position_zyx_um[1], 2),\n",
    "        \"x\": np.round(tile_stage_position_zyx_um[2], 2),\n",
    "    }\n",
    "\n",
    "    im_data = []\n",
    "    im_data = datastore.load_local_registered_image(\n",
    "        tile=tile_id, round=round_id, return_future=False\n",
    "    )\n",
    "\n",
    "    sim = si_utils.get_sim_from_array(\n",
    "        da.expand_dims(im_data, axis=0),\n",
    "        dims=(\"c\", \"z\", \"y\", \"x\"),\n",
    "        scale=scale,\n",
    "        translation=tile_grid_positions,\n",
    "        transform_key=\"stage_metadata\",\n",
    "    )\n",
    "\n",
    "    msim = msi_utils.get_msim_from_sim(sim, scale_factors=[])\n",
    "    msims.append(msim)\n",
    "    del im_data\n",
    "    gc.collect()"
   ]
  },
  {
   "cell_type": "code",
   "execution_count": 38,
   "id": "72edf7c9",
   "metadata": {},
   "outputs": [
    {
     "data": {
      "text/html": [
       "<div><svg style=\"position: absolute; width: 0; height: 0; overflow: hidden\">\n",
       "<defs>\n",
       "<symbol id=\"icon-database\" viewBox=\"0 0 32 32\">\n",
       "<path d=\"M16 0c-8.837 0-16 2.239-16 5v4c0 2.761 7.163 5 16 5s16-2.239 16-5v-4c0-2.761-7.163-5-16-5z\"></path>\n",
       "<path d=\"M16 17c-8.837 0-16-2.239-16-5v6c0 2.761 7.163 5 16 5s16-2.239 16-5v-6c0 2.761-7.163 5-16 5z\"></path>\n",
       "<path d=\"M16 26c-8.837 0-16-2.239-16-5v6c0 2.761 7.163 5 16 5s16-2.239 16-5v-6c0 2.761-7.163 5-16 5z\"></path>\n",
       "</symbol>\n",
       "<symbol id=\"icon-file-text2\" viewBox=\"0 0 32 32\">\n",
       "<path d=\"M28.681 7.159c-0.694-0.947-1.662-2.053-2.724-3.116s-2.169-2.030-3.116-2.724c-1.612-1.182-2.393-1.319-2.841-1.319h-15.5c-1.378 0-2.5 1.121-2.5 2.5v27c0 1.378 1.122 2.5 2.5 2.5h23c1.378 0 2.5-1.122 2.5-2.5v-19.5c0-0.448-0.137-1.23-1.319-2.841zM24.543 5.457c0.959 0.959 1.712 1.825 2.268 2.543h-4.811v-4.811c0.718 0.556 1.584 1.309 2.543 2.268zM28 29.5c0 0.271-0.229 0.5-0.5 0.5h-23c-0.271 0-0.5-0.229-0.5-0.5v-27c0-0.271 0.229-0.5 0.5-0.5 0 0 15.499-0 15.5 0v7c0 0.552 0.448 1 1 1h7v19.5z\"></path>\n",
       "<path d=\"M23 26h-14c-0.552 0-1-0.448-1-1s0.448-1 1-1h14c0.552 0 1 0.448 1 1s-0.448 1-1 1z\"></path>\n",
       "<path d=\"M23 22h-14c-0.552 0-1-0.448-1-1s0.448-1 1-1h14c0.552 0 1 0.448 1 1s-0.448 1-1 1z\"></path>\n",
       "<path d=\"M23 18h-14c-0.552 0-1-0.448-1-1s0.448-1 1-1h14c0.552 0 1 0.448 1 1s-0.448 1-1 1z\"></path>\n",
       "</symbol>\n",
       "</defs>\n",
       "</svg>\n",
       "<style>/* CSS stylesheet for displaying xarray objects in jupyterlab.\n",
       " *\n",
       " */\n",
       "\n",
       ":root {\n",
       "  --xr-font-color0: var(--jp-content-font-color0, rgba(0, 0, 0, 1));\n",
       "  --xr-font-color2: var(--jp-content-font-color2, rgba(0, 0, 0, 0.54));\n",
       "  --xr-font-color3: var(--jp-content-font-color3, rgba(0, 0, 0, 0.38));\n",
       "  --xr-border-color: var(--jp-border-color2, #e0e0e0);\n",
       "  --xr-disabled-color: var(--jp-layout-color3, #bdbdbd);\n",
       "  --xr-background-color: var(--jp-layout-color0, white);\n",
       "  --xr-background-color-row-even: var(--jp-layout-color1, white);\n",
       "  --xr-background-color-row-odd: var(--jp-layout-color2, #eeeeee);\n",
       "}\n",
       "\n",
       "html[theme=\"dark\"],\n",
       "html[data-theme=\"dark\"],\n",
       "body[data-theme=\"dark\"],\n",
       "body.vscode-dark {\n",
       "  --xr-font-color0: rgba(255, 255, 255, 1);\n",
       "  --xr-font-color2: rgba(255, 255, 255, 0.54);\n",
       "  --xr-font-color3: rgba(255, 255, 255, 0.38);\n",
       "  --xr-border-color: #1f1f1f;\n",
       "  --xr-disabled-color: #515151;\n",
       "  --xr-background-color: #111111;\n",
       "  --xr-background-color-row-even: #111111;\n",
       "  --xr-background-color-row-odd: #313131;\n",
       "}\n",
       "\n",
       ".xr-wrap {\n",
       "  display: block !important;\n",
       "  min-width: 300px;\n",
       "  max-width: 700px;\n",
       "}\n",
       "\n",
       ".xr-text-repr-fallback {\n",
       "  /* fallback to plain text repr when CSS is not injected (untrusted notebook) */\n",
       "  display: none;\n",
       "}\n",
       "\n",
       ".xr-header {\n",
       "  padding-top: 6px;\n",
       "  padding-bottom: 6px;\n",
       "  margin-bottom: 4px;\n",
       "  border-bottom: solid 1px var(--xr-border-color);\n",
       "}\n",
       "\n",
       ".xr-header > div,\n",
       ".xr-header > ul {\n",
       "  display: inline;\n",
       "  margin-top: 0;\n",
       "  margin-bottom: 0;\n",
       "}\n",
       "\n",
       ".xr-obj-type,\n",
       ".xr-array-name {\n",
       "  margin-left: 2px;\n",
       "  margin-right: 10px;\n",
       "}\n",
       "\n",
       ".xr-obj-type {\n",
       "  color: var(--xr-font-color2);\n",
       "}\n",
       "\n",
       ".xr-sections {\n",
       "  padding-left: 0 !important;\n",
       "  display: grid;\n",
       "  grid-template-columns: 150px auto auto 1fr 0 20px 0 20px;\n",
       "}\n",
       "\n",
       ".xr-section-item {\n",
       "  display: contents;\n",
       "}\n",
       "\n",
       ".xr-section-item input {\n",
       "  display: inline-block;\n",
       "  opacity: 0;\n",
       "  height: 0;\n",
       "}\n",
       "\n",
       ".xr-section-item input + label {\n",
       "  color: var(--xr-disabled-color);\n",
       "}\n",
       "\n",
       ".xr-section-item input:enabled + label {\n",
       "  cursor: pointer;\n",
       "  color: var(--xr-font-color2);\n",
       "}\n",
       "\n",
       ".xr-section-item input:focus + label {\n",
       "  border: 2px solid var(--xr-font-color0);\n",
       "}\n",
       "\n",
       ".xr-section-item input:enabled + label:hover {\n",
       "  color: var(--xr-font-color0);\n",
       "}\n",
       "\n",
       ".xr-section-summary {\n",
       "  grid-column: 1;\n",
       "  color: var(--xr-font-color2);\n",
       "  font-weight: 500;\n",
       "}\n",
       "\n",
       ".xr-section-summary > span {\n",
       "  display: inline-block;\n",
       "  padding-left: 0.5em;\n",
       "}\n",
       "\n",
       ".xr-section-summary-in:disabled + label {\n",
       "  color: var(--xr-font-color2);\n",
       "}\n",
       "\n",
       ".xr-section-summary-in + label:before {\n",
       "  display: inline-block;\n",
       "  content: \"►\";\n",
       "  font-size: 11px;\n",
       "  width: 15px;\n",
       "  text-align: center;\n",
       "}\n",
       "\n",
       ".xr-section-summary-in:disabled + label:before {\n",
       "  color: var(--xr-disabled-color);\n",
       "}\n",
       "\n",
       ".xr-section-summary-in:checked + label:before {\n",
       "  content: \"▼\";\n",
       "}\n",
       "\n",
       ".xr-section-summary-in:checked + label > span {\n",
       "  display: none;\n",
       "}\n",
       "\n",
       ".xr-section-summary,\n",
       ".xr-section-inline-details {\n",
       "  padding-top: 4px;\n",
       "  padding-bottom: 4px;\n",
       "}\n",
       "\n",
       ".xr-section-inline-details {\n",
       "  grid-column: 2 / -1;\n",
       "}\n",
       "\n",
       ".xr-section-details {\n",
       "  display: none;\n",
       "  grid-column: 1 / -1;\n",
       "  margin-bottom: 5px;\n",
       "}\n",
       "\n",
       ".xr-section-summary-in:checked ~ .xr-section-details {\n",
       "  display: contents;\n",
       "}\n",
       "\n",
       ".xr-array-wrap {\n",
       "  grid-column: 1 / -1;\n",
       "  display: grid;\n",
       "  grid-template-columns: 20px auto;\n",
       "}\n",
       "\n",
       ".xr-array-wrap > label {\n",
       "  grid-column: 1;\n",
       "  vertical-align: top;\n",
       "}\n",
       "\n",
       ".xr-preview {\n",
       "  color: var(--xr-font-color3);\n",
       "}\n",
       "\n",
       ".xr-array-preview,\n",
       ".xr-array-data {\n",
       "  padding: 0 5px !important;\n",
       "  grid-column: 2;\n",
       "}\n",
       "\n",
       ".xr-array-data,\n",
       ".xr-array-in:checked ~ .xr-array-preview {\n",
       "  display: none;\n",
       "}\n",
       "\n",
       ".xr-array-in:checked ~ .xr-array-data,\n",
       ".xr-array-preview {\n",
       "  display: inline-block;\n",
       "}\n",
       "\n",
       ".xr-dim-list {\n",
       "  display: inline-block !important;\n",
       "  list-style: none;\n",
       "  padding: 0 !important;\n",
       "  margin: 0;\n",
       "}\n",
       "\n",
       ".xr-dim-list li {\n",
       "  display: inline-block;\n",
       "  padding: 0;\n",
       "  margin: 0;\n",
       "}\n",
       "\n",
       ".xr-dim-list:before {\n",
       "  content: \"(\";\n",
       "}\n",
       "\n",
       ".xr-dim-list:after {\n",
       "  content: \")\";\n",
       "}\n",
       "\n",
       ".xr-dim-list li:not(:last-child):after {\n",
       "  content: \",\";\n",
       "  padding-right: 5px;\n",
       "}\n",
       "\n",
       ".xr-has-index {\n",
       "  font-weight: bold;\n",
       "}\n",
       "\n",
       ".xr-var-list,\n",
       ".xr-var-item {\n",
       "  display: contents;\n",
       "}\n",
       "\n",
       ".xr-var-item > div,\n",
       ".xr-var-item label,\n",
       ".xr-var-item > .xr-var-name span {\n",
       "  background-color: var(--xr-background-color-row-even);\n",
       "  margin-bottom: 0;\n",
       "}\n",
       "\n",
       ".xr-var-item > .xr-var-name:hover span {\n",
       "  padding-right: 5px;\n",
       "}\n",
       "\n",
       ".xr-var-list > li:nth-child(odd) > div,\n",
       ".xr-var-list > li:nth-child(odd) > label,\n",
       ".xr-var-list > li:nth-child(odd) > .xr-var-name span {\n",
       "  background-color: var(--xr-background-color-row-odd);\n",
       "}\n",
       "\n",
       ".xr-var-name {\n",
       "  grid-column: 1;\n",
       "}\n",
       "\n",
       ".xr-var-dims {\n",
       "  grid-column: 2;\n",
       "}\n",
       "\n",
       ".xr-var-dtype {\n",
       "  grid-column: 3;\n",
       "  text-align: right;\n",
       "  color: var(--xr-font-color2);\n",
       "}\n",
       "\n",
       ".xr-var-preview {\n",
       "  grid-column: 4;\n",
       "}\n",
       "\n",
       ".xr-index-preview {\n",
       "  grid-column: 2 / 5;\n",
       "  color: var(--xr-font-color2);\n",
       "}\n",
       "\n",
       ".xr-var-name,\n",
       ".xr-var-dims,\n",
       ".xr-var-dtype,\n",
       ".xr-preview,\n",
       ".xr-attrs dt {\n",
       "  white-space: nowrap;\n",
       "  overflow: hidden;\n",
       "  text-overflow: ellipsis;\n",
       "  padding-right: 10px;\n",
       "}\n",
       "\n",
       ".xr-var-name:hover,\n",
       ".xr-var-dims:hover,\n",
       ".xr-var-dtype:hover,\n",
       ".xr-attrs dt:hover {\n",
       "  overflow: visible;\n",
       "  width: auto;\n",
       "  z-index: 1;\n",
       "}\n",
       "\n",
       ".xr-var-attrs,\n",
       ".xr-var-data,\n",
       ".xr-index-data {\n",
       "  display: none;\n",
       "  background-color: var(--xr-background-color) !important;\n",
       "  padding-bottom: 5px !important;\n",
       "}\n",
       "\n",
       ".xr-var-attrs-in:checked ~ .xr-var-attrs,\n",
       ".xr-var-data-in:checked ~ .xr-var-data,\n",
       ".xr-index-data-in:checked ~ .xr-index-data {\n",
       "  display: block;\n",
       "}\n",
       "\n",
       ".xr-var-data > table {\n",
       "  float: right;\n",
       "}\n",
       "\n",
       ".xr-var-name span,\n",
       ".xr-var-data,\n",
       ".xr-index-name div,\n",
       ".xr-index-data,\n",
       ".xr-attrs {\n",
       "  padding-left: 25px !important;\n",
       "}\n",
       "\n",
       ".xr-attrs,\n",
       ".xr-var-attrs,\n",
       ".xr-var-data,\n",
       ".xr-index-data {\n",
       "  grid-column: 1 / -1;\n",
       "}\n",
       "\n",
       "dl.xr-attrs {\n",
       "  padding: 0;\n",
       "  margin: 0;\n",
       "  display: grid;\n",
       "  grid-template-columns: 125px auto;\n",
       "}\n",
       "\n",
       ".xr-attrs dt,\n",
       ".xr-attrs dd {\n",
       "  padding: 0;\n",
       "  margin: 0;\n",
       "  float: left;\n",
       "  padding-right: 10px;\n",
       "  width: auto;\n",
       "}\n",
       "\n",
       ".xr-attrs dt {\n",
       "  font-weight: normal;\n",
       "  grid-column: 1;\n",
       "}\n",
       "\n",
       ".xr-attrs dt:hover span {\n",
       "  display: inline-block;\n",
       "  background: var(--xr-background-color);\n",
       "  padding-right: 10px;\n",
       "}\n",
       "\n",
       ".xr-attrs dd {\n",
       "  grid-column: 2;\n",
       "  white-space: pre-wrap;\n",
       "  word-break: break-all;\n",
       "}\n",
       "\n",
       ".xr-icon-database,\n",
       ".xr-icon-file-text2,\n",
       ".xr-no-icon {\n",
       "  display: inline-block;\n",
       "  vertical-align: middle;\n",
       "  width: 1em;\n",
       "  height: 1.5em !important;\n",
       "  stroke-width: 0;\n",
       "  stroke: currentColor;\n",
       "  fill: currentColor;\n",
       "}\n",
       "</style><pre class='xr-text-repr-fallback'>&lt;xarray.DataArray &#x27;image&#x27; (t: 1, c: 1, z: 276, y: 1649, x: 1606)&gt; Size: 1GB\n",
       "dask.array&lt;xarray-&lt;this-array&gt;, shape=(1, 1, 276, 1649, 1606), dtype=uint16, chunksize=(1, 1, 256, 256, 256), chunktype=numpy.ndarray&gt;\n",
       "Coordinates:\n",
       "  * t        (t) int64 8B 0\n",
       "  * c        (c) int64 8B 0\n",
       "  * z        (z) float64 2kB -26.56 -26.53 -26.5 -26.47 ... -18.37 -18.34 -18.31\n",
       "  * y        (y) float64 13kB 4.79e+03 4.79e+03 4.79e+03 ... 4.897e+03 4.897e+03\n",
       "  * x        (x) float64 13kB 6.94e+03 6.94e+03 6.94e+03 ... 7.044e+03 7.044e+03\n",
       "Attributes:\n",
       "    transforms:  {&#x27;stage_metadata&#x27;: &lt;xarray.DataArray (x_in: 4, x_out: 4)&gt; Si...</pre><div class='xr-wrap' style='display:none'><div class='xr-header'><div class='xr-obj-type'>xarray.DataArray</div><div class='xr-array-name'>'image'</div><ul class='xr-dim-list'><li><span class='xr-has-index'>t</span>: 1</li><li><span class='xr-has-index'>c</span>: 1</li><li><span class='xr-has-index'>z</span>: 276</li><li><span class='xr-has-index'>y</span>: 1649</li><li><span class='xr-has-index'>x</span>: 1606</li></ul></div><ul class='xr-sections'><li class='xr-section-item'><div class='xr-array-wrap'><input id='section-f5f05168-ad04-4673-a742-45eb88678098' class='xr-array-in' type='checkbox' checked><label for='section-f5f05168-ad04-4673-a742-45eb88678098' title='Show/hide data repr'><svg class='icon xr-icon-database'><use xlink:href='#icon-database'></use></svg></label><div class='xr-array-preview xr-preview'><span>dask.array&lt;chunksize=(1, 1, 256, 256, 256), meta=np.ndarray&gt;</span></div><div class='xr-array-data'><table>\n",
       "    <tr>\n",
       "        <td>\n",
       "            <table style=\"border-collapse: collapse;\">\n",
       "                <thead>\n",
       "                    <tr>\n",
       "                        <td> </td>\n",
       "                        <th> Array </th>\n",
       "                        <th> Chunk </th>\n",
       "                    </tr>\n",
       "                </thead>\n",
       "                <tbody>\n",
       "                    \n",
       "                    <tr>\n",
       "                        <th> Bytes </th>\n",
       "                        <td> 1.36 GiB </td>\n",
       "                        <td> 32.00 MiB </td>\n",
       "                    </tr>\n",
       "                    \n",
       "                    <tr>\n",
       "                        <th> Shape </th>\n",
       "                        <td> (1, 1, 276, 1649, 1606) </td>\n",
       "                        <td> (1, 1, 256, 256, 256) </td>\n",
       "                    </tr>\n",
       "                    <tr>\n",
       "                        <th> Dask graph </th>\n",
       "                        <td colspan=\"2\"> 98 chunks in 1 graph layer </td>\n",
       "                    </tr>\n",
       "                    <tr>\n",
       "                        <th> Data type </th>\n",
       "                        <td colspan=\"2\"> uint16 numpy.ndarray </td>\n",
       "                    </tr>\n",
       "                </tbody>\n",
       "            </table>\n",
       "        </td>\n",
       "        <td>\n",
       "        <svg width=\"381\" height=\"194\" style=\"stroke:rgb(0,0,0);stroke-width:1\" >\n",
       "\n",
       "  <!-- Horizontal lines -->\n",
       "  <line x1=\"0\" y1=\"0\" x2=\"25\" y2=\"0\" style=\"stroke-width:2\" />\n",
       "  <line x1=\"0\" y1=\"25\" x2=\"25\" y2=\"25\" style=\"stroke-width:2\" />\n",
       "\n",
       "  <!-- Vertical lines -->\n",
       "  <line x1=\"0\" y1=\"0\" x2=\"0\" y2=\"25\" style=\"stroke-width:2\" />\n",
       "  <line x1=\"25\" y1=\"0\" x2=\"25\" y2=\"25\" style=\"stroke-width:2\" />\n",
       "\n",
       "  <!-- Colored Rectangle -->\n",
       "  <polygon points=\"0.0,0.0 25.412616514582485,0.0 25.412616514582485,25.412616514582485 0.0,25.412616514582485\" style=\"fill:#ECB172A0;stroke-width:0\"/>\n",
       "\n",
       "  <!-- Text -->\n",
       "  <text x=\"12.706308\" y=\"45.412617\" font-size=\"1.0rem\" font-weight=\"100\" text-anchor=\"middle\" >1</text>\n",
       "  <text x=\"45.412617\" y=\"12.706308\" font-size=\"1.0rem\" font-weight=\"100\" text-anchor=\"middle\" transform=\"rotate(0,45.412617,12.706308)\">1</text>\n",
       "\n",
       "\n",
       "  <!-- Horizontal lines -->\n",
       "  <line x1=\"95\" y1=\"0\" x2=\"119\" y2=\"24\" style=\"stroke-width:2\" />\n",
       "  <line x1=\"95\" y1=\"18\" x2=\"119\" y2=\"42\" />\n",
       "  <line x1=\"95\" y1=\"37\" x2=\"119\" y2=\"61\" />\n",
       "  <line x1=\"95\" y1=\"55\" x2=\"119\" y2=\"80\" />\n",
       "  <line x1=\"95\" y1=\"74\" x2=\"119\" y2=\"98\" />\n",
       "  <line x1=\"95\" y1=\"93\" x2=\"119\" y2=\"117\" />\n",
       "  <line x1=\"95\" y1=\"111\" x2=\"119\" y2=\"136\" />\n",
       "  <line x1=\"95\" y1=\"120\" x2=\"119\" y2=\"144\" style=\"stroke-width:2\" />\n",
       "\n",
       "  <!-- Vertical lines -->\n",
       "  <line x1=\"95\" y1=\"0\" x2=\"95\" y2=\"120\" style=\"stroke-width:2\" />\n",
       "  <line x1=\"117\" y1=\"22\" x2=\"117\" y2=\"142\" />\n",
       "  <line x1=\"119\" y1=\"24\" x2=\"119\" y2=\"144\" style=\"stroke-width:2\" />\n",
       "\n",
       "  <!-- Colored Rectangle -->\n",
       "  <polygon points=\"95.0,0.0 119.24903146330882,24.24903146330883 119.24903146330882,144.24903146330882 95.0,120.0\" style=\"fill:#ECB172A0;stroke-width:0\"/>\n",
       "\n",
       "  <!-- Horizontal lines -->\n",
       "  <line x1=\"95\" y1=\"0\" x2=\"211\" y2=\"0\" style=\"stroke-width:2\" />\n",
       "  <line x1=\"117\" y1=\"22\" x2=\"234\" y2=\"22\" />\n",
       "  <line x1=\"119\" y1=\"24\" x2=\"236\" y2=\"24\" style=\"stroke-width:2\" />\n",
       "\n",
       "  <!-- Vertical lines -->\n",
       "  <line x1=\"95\" y1=\"0\" x2=\"119\" y2=\"24\" style=\"stroke-width:2\" />\n",
       "  <line x1=\"113\" y1=\"0\" x2=\"137\" y2=\"24\" />\n",
       "  <line x1=\"132\" y1=\"0\" x2=\"156\" y2=\"24\" />\n",
       "  <line x1=\"150\" y1=\"0\" x2=\"175\" y2=\"24\" />\n",
       "  <line x1=\"169\" y1=\"0\" x2=\"193\" y2=\"24\" />\n",
       "  <line x1=\"188\" y1=\"0\" x2=\"212\" y2=\"24\" />\n",
       "  <line x1=\"206\" y1=\"0\" x2=\"231\" y2=\"24\" />\n",
       "  <line x1=\"211\" y1=\"0\" x2=\"236\" y2=\"24\" style=\"stroke-width:2\" />\n",
       "\n",
       "  <!-- Colored Rectangle -->\n",
       "  <polygon points=\"95.0,0.0 211.8708308065494,0.0 236.11986226985823,24.24903146330883 119.24903146330882,24.24903146330883\" style=\"fill:#ECB172A0;stroke-width:0\"/>\n",
       "\n",
       "  <!-- Horizontal lines -->\n",
       "  <line x1=\"119\" y1=\"24\" x2=\"236\" y2=\"24\" style=\"stroke-width:2\" />\n",
       "  <line x1=\"119\" y1=\"42\" x2=\"236\" y2=\"42\" />\n",
       "  <line x1=\"119\" y1=\"61\" x2=\"236\" y2=\"61\" />\n",
       "  <line x1=\"119\" y1=\"80\" x2=\"236\" y2=\"80\" />\n",
       "  <line x1=\"119\" y1=\"98\" x2=\"236\" y2=\"98\" />\n",
       "  <line x1=\"119\" y1=\"117\" x2=\"236\" y2=\"117\" />\n",
       "  <line x1=\"119\" y1=\"136\" x2=\"236\" y2=\"136\" />\n",
       "  <line x1=\"119\" y1=\"144\" x2=\"236\" y2=\"144\" style=\"stroke-width:2\" />\n",
       "\n",
       "  <!-- Vertical lines -->\n",
       "  <line x1=\"119\" y1=\"24\" x2=\"119\" y2=\"144\" style=\"stroke-width:2\" />\n",
       "  <line x1=\"137\" y1=\"24\" x2=\"137\" y2=\"144\" />\n",
       "  <line x1=\"156\" y1=\"24\" x2=\"156\" y2=\"144\" />\n",
       "  <line x1=\"175\" y1=\"24\" x2=\"175\" y2=\"144\" />\n",
       "  <line x1=\"193\" y1=\"24\" x2=\"193\" y2=\"144\" />\n",
       "  <line x1=\"212\" y1=\"24\" x2=\"212\" y2=\"144\" />\n",
       "  <line x1=\"231\" y1=\"24\" x2=\"231\" y2=\"144\" />\n",
       "  <line x1=\"236\" y1=\"24\" x2=\"236\" y2=\"144\" style=\"stroke-width:2\" />\n",
       "\n",
       "  <!-- Colored Rectangle -->\n",
       "  <polygon points=\"119.24903146330882,24.24903146330883 236.11986226985823,24.24903146330883 236.11986226985823,144.24903146330882 119.24903146330882,144.24903146330882\" style=\"fill:#ECB172A0;stroke-width:0\"/>\n",
       "\n",
       "  <!-- Text -->\n",
       "  <text x=\"177.684447\" y=\"164.249031\" font-size=\"1.0rem\" font-weight=\"100\" text-anchor=\"middle\" >1606</text>\n",
       "  <text x=\"256.119862\" y=\"84.249031\" font-size=\"1.0rem\" font-weight=\"100\" text-anchor=\"middle\" transform=\"rotate(-90,256.119862,84.249031)\">1649</text>\n",
       "  <text x=\"97.124516\" y=\"152.124516\" font-size=\"1.0rem\" font-weight=\"100\" text-anchor=\"middle\" transform=\"rotate(45,97.124516,152.124516)\">276</text>\n",
       "</svg>\n",
       "        </td>\n",
       "    </tr>\n",
       "</table></div></div></li><li class='xr-section-item'><input id='section-8ee75b65-b06a-4d27-8def-a589e4e1519a' class='xr-section-summary-in' type='checkbox'  checked><label for='section-8ee75b65-b06a-4d27-8def-a589e4e1519a' class='xr-section-summary' >Coordinates: <span>(5)</span></label><div class='xr-section-inline-details'></div><div class='xr-section-details'><ul class='xr-var-list'><li class='xr-var-item'><div class='xr-var-name'><span class='xr-has-index'>t</span></div><div class='xr-var-dims'>(t)</div><div class='xr-var-dtype'>int64</div><div class='xr-var-preview xr-preview'>0</div><input id='attrs-f52beae0-d851-44ca-95b9-752fd7951e13' class='xr-var-attrs-in' type='checkbox' ><label for='attrs-f52beae0-d851-44ca-95b9-752fd7951e13' title='Show/Hide attributes'><svg class='icon xr-icon-file-text2'><use xlink:href='#icon-file-text2'></use></svg></label><input id='data-a85578d8-70a1-41c0-b500-347f15c4da26' class='xr-var-data-in' type='checkbox'><label for='data-a85578d8-70a1-41c0-b500-347f15c4da26' title='Show/Hide data repr'><svg class='icon xr-icon-database'><use xlink:href='#icon-database'></use></svg></label><div class='xr-var-attrs'><dl class='xr-attrs'><dt><span>long_name :</span></dt><dd>t</dd><dt><span>units :</span></dt><dd></dd></dl></div><div class='xr-var-data'><pre>array([0])</pre></div></li><li class='xr-var-item'><div class='xr-var-name'><span class='xr-has-index'>c</span></div><div class='xr-var-dims'>(c)</div><div class='xr-var-dtype'>int64</div><div class='xr-var-preview xr-preview'>0</div><input id='attrs-728462bf-4367-4662-ad33-f3452a0d61f1' class='xr-var-attrs-in' type='checkbox' ><label for='attrs-728462bf-4367-4662-ad33-f3452a0d61f1' title='Show/Hide attributes'><svg class='icon xr-icon-file-text2'><use xlink:href='#icon-file-text2'></use></svg></label><input id='data-7d75d1d5-3204-4bd4-a290-754998e11987' class='xr-var-data-in' type='checkbox'><label for='data-7d75d1d5-3204-4bd4-a290-754998e11987' title='Show/Hide data repr'><svg class='icon xr-icon-database'><use xlink:href='#icon-database'></use></svg></label><div class='xr-var-attrs'><dl class='xr-attrs'><dt><span>long_name :</span></dt><dd>c</dd><dt><span>units :</span></dt><dd></dd></dl></div><div class='xr-var-data'><pre>array([0])</pre></div></li><li class='xr-var-item'><div class='xr-var-name'><span class='xr-has-index'>z</span></div><div class='xr-var-dims'>(z)</div><div class='xr-var-dtype'>float64</div><div class='xr-var-preview xr-preview'>-26.56 -26.53 ... -18.34 -18.31</div><input id='attrs-466485c2-2387-43ed-99cb-380b1a9ed8ca' class='xr-var-attrs-in' type='checkbox' ><label for='attrs-466485c2-2387-43ed-99cb-380b1a9ed8ca' title='Show/Hide attributes'><svg class='icon xr-icon-file-text2'><use xlink:href='#icon-file-text2'></use></svg></label><input id='data-9ec0b52e-1be9-4ddc-89d8-e6339da7ebaf' class='xr-var-data-in' type='checkbox'><label for='data-9ec0b52e-1be9-4ddc-89d8-e6339da7ebaf' title='Show/Hide data repr'><svg class='icon xr-icon-database'><use xlink:href='#icon-database'></use></svg></label><div class='xr-var-attrs'><dl class='xr-attrs'><dt><span>long_name :</span></dt><dd>z</dd><dt><span>units :</span></dt><dd></dd></dl></div><div class='xr-var-data'><pre>array([-26.559999, -26.529999, -26.499999, ..., -18.37    , -18.34    ,\n",
       "       -18.31    ])</pre></div></li><li class='xr-var-item'><div class='xr-var-name'><span class='xr-has-index'>y</span></div><div class='xr-var-dims'>(y)</div><div class='xr-var-dtype'>float64</div><div class='xr-var-preview xr-preview'>4.79e+03 4.79e+03 ... 4.897e+03</div><input id='attrs-6e35e791-89e5-4fed-aee2-666b58671edd' class='xr-var-attrs-in' type='checkbox' ><label for='attrs-6e35e791-89e5-4fed-aee2-666b58671edd' title='Show/Hide attributes'><svg class='icon xr-icon-file-text2'><use xlink:href='#icon-file-text2'></use></svg></label><input id='data-8cd2079b-f2f6-424a-b9cc-54533b98930e' class='xr-var-data-in' type='checkbox'><label for='data-8cd2079b-f2f6-424a-b9cc-54533b98930e' title='Show/Hide data repr'><svg class='icon xr-icon-database'><use xlink:href='#icon-database'></use></svg></label><div class='xr-var-attrs'><dl class='xr-attrs'><dt><span>long_name :</span></dt><dd>y</dd><dt><span>units :</span></dt><dd></dd></dl></div><div class='xr-var-data'><pre>array([4790.089844, 4790.154844, 4790.219844, ..., 4897.079841, 4897.144841,\n",
       "       4897.209841])</pre></div></li><li class='xr-var-item'><div class='xr-var-name'><span class='xr-has-index'>x</span></div><div class='xr-var-dims'>(x)</div><div class='xr-var-dtype'>float64</div><div class='xr-var-preview xr-preview'>6.94e+03 6.94e+03 ... 7.044e+03</div><input id='attrs-de6e6962-28b5-40fc-91c6-5bf175221490' class='xr-var-attrs-in' type='checkbox' ><label for='attrs-de6e6962-28b5-40fc-91c6-5bf175221490' title='Show/Hide attributes'><svg class='icon xr-icon-file-text2'><use xlink:href='#icon-file-text2'></use></svg></label><input id='data-b8094f35-e944-404d-9ca0-db72639217a7' class='xr-var-data-in' type='checkbox'><label for='data-b8094f35-e944-404d-9ca0-db72639217a7' title='Show/Hide data repr'><svg class='icon xr-icon-database'><use xlink:href='#icon-database'></use></svg></label><div class='xr-var-attrs'><dl class='xr-attrs'><dt><span>long_name :</span></dt><dd>x</dd><dt><span>units :</span></dt><dd></dd></dl></div><div class='xr-var-data'><pre>array([6939.959961, 6940.024961, 6940.089961, ..., 7044.154958, 7044.219958,\n",
       "       7044.284958])</pre></div></li></ul></div></li><li class='xr-section-item'><input id='section-97dc675a-1b9c-4630-beba-244d3af38062' class='xr-section-summary-in' type='checkbox'  ><label for='section-97dc675a-1b9c-4630-beba-244d3af38062' class='xr-section-summary' >Indexes: <span>(5)</span></label><div class='xr-section-inline-details'></div><div class='xr-section-details'><ul class='xr-var-list'><li class='xr-var-item'><div class='xr-index-name'><div>t</div></div><div class='xr-index-preview'>PandasIndex</div><input type='checkbox' disabled/><label></label><input id='index-90fa857a-7c55-4542-82a7-5632d9027198' class='xr-index-data-in' type='checkbox'/><label for='index-90fa857a-7c55-4542-82a7-5632d9027198' title='Show/Hide index repr'><svg class='icon xr-icon-database'><use xlink:href='#icon-database'></use></svg></label><div class='xr-index-data'><pre>PandasIndex(Index([0], dtype=&#x27;int64&#x27;, name=&#x27;t&#x27;))</pre></div></li><li class='xr-var-item'><div class='xr-index-name'><div>c</div></div><div class='xr-index-preview'>PandasIndex</div><input type='checkbox' disabled/><label></label><input id='index-00470d9e-d6e5-40cc-b42f-063981ad38f6' class='xr-index-data-in' type='checkbox'/><label for='index-00470d9e-d6e5-40cc-b42f-063981ad38f6' title='Show/Hide index repr'><svg class='icon xr-icon-database'><use xlink:href='#icon-database'></use></svg></label><div class='xr-index-data'><pre>PandasIndex(Index([0], dtype=&#x27;int64&#x27;, name=&#x27;c&#x27;))</pre></div></li><li class='xr-var-item'><div class='xr-index-name'><div>z</div></div><div class='xr-index-preview'>PandasIndex</div><input type='checkbox' disabled/><label></label><input id='index-b97f68fa-5aa9-4af2-8fd5-6b349ba64a3d' class='xr-index-data-in' type='checkbox'/><label for='index-b97f68fa-5aa9-4af2-8fd5-6b349ba64a3d' title='Show/Hide index repr'><svg class='icon xr-icon-database'><use xlink:href='#icon-database'></use></svg></label><div class='xr-index-data'><pre>PandasIndex(Index([-26.559999465942383,  -26.52999946685842, -26.499999467774455,\n",
       "       -26.469999468690492,  -26.43999946960653, -26.409999470522568,\n",
       "         -26.3799994714386,  -26.34999947235464, -26.319999473270677,\n",
       "       -26.289999474186715,\n",
       "       ...\n",
       "       -18.579999709608156,  -18.54999971052419, -18.519999711440228,\n",
       "       -18.489999712356266, -18.459999713272303,  -18.42999971418834,\n",
       "       -18.399999715104375, -18.369999716020413, -18.339999716936447,\n",
       "       -18.309999717852484],\n",
       "      dtype=&#x27;float64&#x27;, name=&#x27;z&#x27;, length=276))</pre></div></li><li class='xr-var-item'><div class='xr-index-name'><div>y</div></div><div class='xr-index-preview'>PandasIndex</div><input type='checkbox' disabled/><label></label><input id='index-36334847-216b-491e-9fea-b6d3095b5d39' class='xr-index-data-in' type='checkbox'/><label for='index-36334847-216b-491e-9fea-b6d3095b5d39' title='Show/Hide index repr'><svg class='icon xr-icon-database'><use xlink:href='#icon-database'></use></svg></label><div class='xr-index-data'><pre>PandasIndex(Index([     4790.08984375,  4790.154843748401,  4790.219843746802,\n",
       "        4790.284843745203,  4790.349843743604,  4790.414843742005,\n",
       "        4790.479843740406,  4790.544843738807,  4790.609843737208,\n",
       "        4790.674843735609,\n",
       "       ...\n",
       "        4896.624841129242, 4896.6898411276425,  4896.754841126043,\n",
       "        4896.819841124445, 4896.8848411228455,  4896.949841121246,\n",
       "        4897.014841119648, 4897.0798411180485,  4897.144841116449,\n",
       "        4897.209841114851],\n",
       "      dtype=&#x27;float64&#x27;, name=&#x27;y&#x27;, length=1649))</pre></div></li><li class='xr-var-item'><div class='xr-index-name'><div>x</div></div><div class='xr-index-preview'>PandasIndex</div><input type='checkbox' disabled/><label></label><input id='index-fe0b4d99-6ac6-4618-9a3f-7e0d4ebfea93' class='xr-index-data-in' type='checkbox'/><label for='index-fe0b4d99-6ac6-4618-9a3f-7e0d4ebfea93' title='Show/Hide index repr'><svg class='icon xr-icon-database'><use xlink:href='#icon-database'></use></svg></label><div class='xr-index-data'><pre>PandasIndex(Index([  6939.9599609375, 6940.024960935901, 6940.089960934302,\n",
       "       6940.154960932703, 6940.219960931104, 6940.284960929505,\n",
       "       6940.349960927906, 6940.414960926307, 6940.479960924708,\n",
       "       6940.544960923109,\n",
       "       ...\n",
       "       7043.699958385499, 7043.764958383899,   7043.8299583823,\n",
       "       7043.894958380702, 7043.959958379102, 7044.024958377503,\n",
       "       7044.089958375905, 7044.154958374305, 7044.219958372706,\n",
       "       7044.284958371108],\n",
       "      dtype=&#x27;float64&#x27;, name=&#x27;x&#x27;, length=1606))</pre></div></li></ul></div></li><li class='xr-section-item'><input id='section-7f26598c-85d0-45a0-9d92-5da22e1e11c3' class='xr-section-summary-in' type='checkbox'  checked><label for='section-7f26598c-85d0-45a0-9d92-5da22e1e11c3' class='xr-section-summary' >Attributes: <span>(1)</span></label><div class='xr-section-inline-details'></div><div class='xr-section-details'><dl class='xr-attrs'><dt><span>transforms :</span></dt><dd>{&#x27;stage_metadata&#x27;: &lt;xarray.DataArray (x_in: 4, x_out: 4)&gt; Size: 128B\n",
       "array([[1., 0., 0., 0.],\n",
       "       [0., 1., 0., 0.],\n",
       "       [0., 0., 1., 0.],\n",
       "       [0., 0., 0., 1.]])\n",
       "Coordinates:\n",
       "  * x_in     (x_in) &lt;U1 16B &#x27;z&#x27; &#x27;y&#x27; &#x27;x&#x27; &#x27;1&#x27;\n",
       "  * x_out    (x_out) &lt;U1 16B &#x27;z&#x27; &#x27;y&#x27; &#x27;x&#x27; &#x27;1&#x27;}</dd></dl></div></li></ul></div></div>"
      ],
      "text/plain": [
       "<xarray.DataArray 'image' (t: 1, c: 1, z: 276, y: 1649, x: 1606)> Size: 1GB\n",
       "dask.array<xarray-<this-array>, shape=(1, 1, 276, 1649, 1606), dtype=uint16, chunksize=(1, 1, 256, 256, 256), chunktype=numpy.ndarray>\n",
       "Coordinates:\n",
       "  * t        (t) int64 8B 0\n",
       "  * c        (c) int64 8B 0\n",
       "  * z        (z) float64 2kB -26.56 -26.53 -26.5 -26.47 ... -18.37 -18.34 -18.31\n",
       "  * y        (y) float64 13kB 4.79e+03 4.79e+03 4.79e+03 ... 4.897e+03 4.897e+03\n",
       "  * x        (x) float64 13kB 6.94e+03 6.94e+03 6.94e+03 ... 7.044e+03 7.044e+03\n",
       "Attributes:\n",
       "    transforms:  {'stage_metadata': <xarray.DataArray (x_in: 4, x_out: 4)> Si..."
      ]
     },
     "execution_count": 38,
     "metadata": {},
     "output_type": "execute_result"
    }
   ],
   "source": [
    "sim"
   ]
  },
  {
   "cell_type": "code",
   "execution_count": 40,
   "id": "0be53479",
   "metadata": {},
   "outputs": [
    {
     "data": {
      "image/png": "[encoded data removed]",
      "text/plain": [
       "<Figure size 640x480 with 1 Axes>"
      ]
     },
     "metadata": {},
     "output_type": "display_data"
    }
   ],
   "source": [
    "from multiview_stitcher import vis_utils\n",
    "fig, ax = vis_utils.plot_positions(\n",
    "    msims,\n",
    "    use_positional_colors=True, # set to False for faster execution in case of more than 20 tiles/views\n",
    "    transform_key='stage_metadata'\n",
    "    )"
   ]
  },
  {
   "cell_type": "code",
   "execution_count": 42,
   "id": "11c6dbc6",
   "metadata": {},
   "outputs": [
    {
     "name": "stderr",
     "output_type": "stream",
     "text": [
      "WARNING: WARNING: QApplication was not created in the main() thread.\n",
      "WARNING: could not connect to display localhost:0.0\n",
      "WARNING: Could not load the Qt platform plugin \"xcb\" in \"\" even though it was found.\n",
      "WARNING: This application failed to start because no Qt platform plugin could be initialized. Reinstalling the application may fix this problem.\n",
      "\n",
      "Available platform plugins are: eglfs, minimal, minimalegl, offscreen, vnc, webgl, xcb.\n",
      "\n"
     ]
    },
    {
     "ename": "",
     "evalue": "",
     "output_type": "error",
     "traceback": [
      "\u001b[1;31mThe Kernel crashed while executing code in the current cell or a previous cell. \n",
      "\u001b[1;31mPlease review the code in the cell(s) to identify a possible cause of the failure. \n",
      "\u001b[1;31mClick <a href='https://aka.ms/vscodeJupyterKernelCrash'>here</a> for more info. \n",
      "\u001b[1;31mView Jupyter <a href='command:jupyter.viewOutput'>log</a> for further details."
     ]
    }
   ],
   "source": [
    "import napari \n",
    "from napari_stitcher import viewer_utils\n",
    "\n",
    "ch_coord = 0 # None if all should be shown\n",
    "\n",
    "viewer = napari.Viewer(ndisplay=msi_utils.get_ndim(msims[0]))\n",
    "lds = viewer_utils.create_image_layer_tuples_from_msims(\n",
    "    msims, ch_coord=ch_coord, transform_key='affine_metadata', n_colors=2, contrast_limits=[0, 500])\n",
    "viewer_utils.add_image_layer_tuples_to_viewer(viewer, lds)\n",
    "viewer.reset_view()"
   ]
  },
  {
   "cell_type": "code",
   "execution_count": 41,
   "id": "7f006af9",
   "metadata": {},
   "outputs": [
    {
     "name": "stdout",
     "output_type": "stream",
     "text": [
      "[########################################] | 100% Completed | 908.85 ms\n",
      "[########################################] | 100% Completed | 407.62 ms\n",
      "[                                        ] | 0% Completed | 116.77 us"
     ]
    },
    {
     "name": "stderr",
     "output_type": "stream",
     "text": [
      "/home/hugob/miniforge3/envs/merfish3d/lib/python3.12/site-packages/dask/utils.py:77: UserWarning: An overlap region between tiles/views is all zero or constant. Assuming identity transform.\n",
      "  return func(*args, **kwargs)\n"
     ]
    },
    {
     "name": "stdout",
     "output_type": "stream",
     "text": [
      "[########################################] | 100% Completed | 204.84 ms\n",
      "[#################                       ] | 43% Completed | 104.51 ms"
     ]
    },
    {
     "name": "stderr",
     "output_type": "stream",
     "text": [
      "/home/hugob/miniforge3/envs/merfish3d/lib/python3.12/site-packages/dask/utils.py:77: UserWarning: An overlap region between tiles/views is all zero or constant. Assuming identity transform.\n",
      "  return func(*args, **kwargs)\n"
     ]
    },
    {
     "name": "stdout",
     "output_type": "stream",
     "text": [
      "[########################################] | 100% Completed | 407.06 ms\n",
      "[                                        ] | 0% Completed | 123.72 us"
     ]
    },
    {
     "name": "stderr",
     "output_type": "stream",
     "text": [
      "/home/hugob/miniforge3/envs/merfish3d/lib/python3.12/site-packages/dask/utils.py:77: UserWarning: An overlap region between tiles/views is all zero or constant. Assuming identity transform.\n",
      "  return func(*args, **kwargs)\n"
     ]
    },
    {
     "name": "stdout",
     "output_type": "stream",
     "text": [
      "[########################################] | 100% Completed | 204.40 ms\n",
      "[#######################                 ] | 57% Completed | 104.27 ms"
     ]
    },
    {
     "name": "stderr",
     "output_type": "stream",
     "text": [
      "/home/hugob/miniforge3/envs/merfish3d/lib/python3.12/site-packages/dask/utils.py:77: UserWarning: An overlap region between tiles/views is all zero or constant. Assuming identity transform.\n",
      "  return func(*args, **kwargs)\n"
     ]
    },
    {
     "name": "stdout",
     "output_type": "stream",
     "text": [
      "[########################################] | 100% Completed | 205.03 ms\n",
      "[#################                       ] | 42% Completed | 105.78 ms"
     ]
    },
    {
     "name": "stderr",
     "output_type": "stream",
     "text": [
      "/home/hugob/miniforge3/envs/merfish3d/lib/python3.12/site-packages/dask/utils.py:77: UserWarning: An overlap region between tiles/views is all zero or constant. Assuming identity transform.\n",
      "  return func(*args, **kwargs)\n"
     ]
    },
    {
     "name": "stdout",
     "output_type": "stream",
     "text": [
      "[########################################] | 100% Completed | 409.15 ms\n",
      "[                                        ] | 0% Completed | 166.29 us"
     ]
    },
    {
     "name": "stderr",
     "output_type": "stream",
     "text": [
      "/home/hugob/miniforge3/envs/merfish3d/lib/python3.12/site-packages/dask/utils.py:77: UserWarning: An overlap region between tiles/views is all zero or constant. Assuming identity transform.\n",
      "  return func(*args, **kwargs)\n"
     ]
    },
    {
     "name": "stdout",
     "output_type": "stream",
     "text": [
      "[########################################] | 100% Completed | 308.05 ms\n",
      "[                                        ] | 0% Completed | 150.55 us"
     ]
    },
    {
     "name": "stderr",
     "output_type": "stream",
     "text": [
      "/home/hugob/miniforge3/envs/merfish3d/lib/python3.12/site-packages/dask/utils.py:77: UserWarning: An overlap region between tiles/views is all zero or constant. Assuming identity transform.\n",
      "  return func(*args, **kwargs)\n"
     ]
    },
    {
     "name": "stdout",
     "output_type": "stream",
     "text": [
      "[########################################] | 100% Completed | 907.87 ms\n",
      "[########################################] | 100% Completed | 508.19 ms\n",
      "[################################        ] | 81% Completed | 102.59 ms"
     ]
    },
    {
     "name": "stderr",
     "output_type": "stream",
     "text": [
      "/home/hugob/miniforge3/envs/merfish3d/lib/python3.12/site-packages/dask/utils.py:77: UserWarning: An overlap region between tiles/views is all zero or constant. Assuming identity transform.\n",
      "  return func(*args, **kwargs)\n"
     ]
    },
    {
     "name": "stdout",
     "output_type": "stream",
     "text": [
      "[########################################] | 100% Completed | 505.51 ms\n",
      "[###################                     ] | 49% Completed | 103.67 ms"
     ]
    },
    {
     "name": "stderr",
     "output_type": "stream",
     "text": [
      "/home/hugob/miniforge3/envs/merfish3d/lib/python3.12/site-packages/dask/utils.py:77: UserWarning: An overlap region between tiles/views is all zero or constant. Assuming identity transform.\n",
      "  return func(*args, **kwargs)\n"
     ]
    },
    {
     "name": "stdout",
     "output_type": "stream",
     "text": [
      "[########################################] | 100% Completed | 607.71 ms\n",
      "[                                        ] | 0% Completed | 130.97 us"
     ]
    },
    {
     "name": "stderr",
     "output_type": "stream",
     "text": [
      "/home/hugob/miniforge3/envs/merfish3d/lib/python3.12/site-packages/dask/utils.py:77: UserWarning: An overlap region between tiles/views is all zero or constant. Assuming identity transform.\n",
      "  return func(*args, **kwargs)\n"
     ]
    },
    {
     "name": "stdout",
     "output_type": "stream",
     "text": [
      "[########################################] | 100% Completed | 505.68 ms\n"
     ]
    },
    {
     "name": "stderr",
     "output_type": "stream",
     "text": [
      "/home/hugob/miniforge3/envs/merfish3d/lib/python3.12/site-packages/dask/utils.py:77: UserWarning: An overlap region between tiles/views is all zero or constant. Assuming identity transform.\n",
      "  return func(*args, **kwargs)\n"
     ]
    },
    {
     "name": "stdout",
     "output_type": "stream",
     "text": [
      "[########################################] | 100% Completed | 505.72 ms\n",
      "[###################                     ] | 48% Completed | 103.70 ms"
     ]
    },
    {
     "name": "stderr",
     "output_type": "stream",
     "text": [
      "/home/hugob/miniforge3/envs/merfish3d/lib/python3.12/site-packages/dask/utils.py:77: UserWarning: An overlap region between tiles/views is all zero or constant. Assuming identity transform.\n",
      "  return func(*args, **kwargs)\n"
     ]
    },
    {
     "name": "stdout",
     "output_type": "stream",
     "text": [
      "[########################################] | 100% Completed | 507.51 ms\n",
      "[###################                     ] | 48% Completed | 100.96 ms"
     ]
    },
    {
     "name": "stderr",
     "output_type": "stream",
     "text": [
      "/home/hugob/miniforge3/envs/merfish3d/lib/python3.12/site-packages/dask/utils.py:77: UserWarning: An overlap region between tiles/views is all zero or constant. Assuming identity transform.\n",
      "  return func(*args, **kwargs)\n"
     ]
    },
    {
     "name": "stdout",
     "output_type": "stream",
     "text": [
      "[########################################] | 100% Completed | 504.43 ms\n"
     ]
    },
    {
     "name": "stderr",
     "output_type": "stream",
     "text": [
      "/home/hugob/miniforge3/envs/merfish3d/lib/python3.12/site-packages/dask/utils.py:77: UserWarning: An overlap region between tiles/views is all zero or constant. Assuming identity transform.\n",
      "  return func(*args, **kwargs)\n"
     ]
    }
   ],
   "source": [
    "# perform registration in 2 steps, from most downsampling to least.\n",
    "with dask.config.set(**{\"array.slicing.split_large_chunks\": False}):\n",
    "    with dask.diagnostics.ProgressBar():\n",
    "        _ = registration.register(\n",
    "            msims,\n",
    "            reg_channel_index=0,\n",
    "            transform_key=\"stage_metadata\",\n",
    "            new_transform_key=\"translation_registered_3x\",\n",
    "            registration_binning={\"z\": 3, \"y\": 9, \"x\": 9},\n",
    "            post_registration_do_quality_filter=True,\n",
    "        )\n",
    "\n",
    "        _ = registration.register(\n",
    "            msims,\n",
    "            reg_channel_index=0,\n",
    "            transform_key=\"translation_registered_3x\",\n",
    "            new_transform_key=\"translation_registered\",\n",
    "            registration_binning={\"z\": 1, \"y\": 3, \"x\": 3},\n",
    "            post_registration_do_quality_filter=True,\n",
    "        )"
   ]
  }
 ],
 "metadata": {
  "kernelspec": {
   "display_name": "merfish3d",
   "language": "python",
   "name": "python3"
  },
  "language_info": {
   "codemirror_mode": {
    "name": "ipython",
    "version": 3
   },
   "file_extension": ".py",
   "mimetype": "text/x-python",
   "name": "python",
   "nbconvert_exporter": "python",
   "pygments_lexer": "ipython3",
   "version": "3.12.9"
  }
 },
 "nbformat": 4,
 "nbformat_minor": 5
}
