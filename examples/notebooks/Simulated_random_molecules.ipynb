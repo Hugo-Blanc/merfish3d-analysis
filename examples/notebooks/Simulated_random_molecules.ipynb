{
  "cells": [
    {
      "cell_type": "markdown",
      "metadata": {
        "id": "a4BN9micq9Kq"
      },
      "source": [
        "# Test `merfish3d-analysis` on simulated MERFISH data\n",
        "The goal of this notebook is to show the performance of [`merfish3d-analysis`](https://github.com/QI2lab/merfish3d-analysis) on simulated MERFISH data. The output metric is the [F1-score](https://en.wikipedia.org/wiki/F-score) that determines how well `merfish3d-analysis` recovers the ground truth location and identity of the RNA molecules used to generate the simulation. We will use a single FOV with uniformly distributed RNA molecules. **Note:** `merfish3d-analysis` requires a GPU runtime and will not run without one.\n"
      ]
    },
    {
      "cell_type": "markdown",
      "metadata": {},
      "source": [
        "<table class=\"tfo-notebook-buttons\" align=\"left\">\n",
        "  <td>\n",
        "    <a target=\"_blank\" href=\"https://colab.research.google.com/github/QI2lab/merfish3d-analysis/blob/fix-install-script-for-numpy2-issue/examples/notebooks/Simulated_uniform_molecules.ipynb\"><img src=\"https://www.tensorflow.org/images/colab_logo_32px.png\" />Run in Google Colab</a>\n",
        "  </td>\n",
        "  <td>\n",
        "    <a target=\"_blank\" href=\"https://github.com/QI2lab/merfish3d-analysis/blob/fix-install-script-for-numpy2-issue/examples/notebooks/Simulated_uniform_molecules.ipynb\"><img src=\"https://www.tensorflow.org/images/GitHub-Mark-32px.png\" />View source on GitHub</a>\n",
        "  </td>\n",
        "</table>"
      ]
    },
    {
      "cell_type": "markdown",
      "metadata": {
        "id": "IWysaTrbp-bw"
      },
      "source": [
        "## Install `merfish3d-analysis`\n",
        "This is a modified version of the library installation that allow it to run using Google Colab servers. It is missing visualization tools and the ability to automatically stitched tiled data.  \n",
        "  \n",
        "**Note:** This installation can take 5-10 minutes, because all of the CUDA libraries have to be validated."
      ]
    },
    {
      "cell_type": "code",
      "execution_count": null,
      "metadata": {
        "colab": {
          "base_uri": "https://localhost:8080/"
        },
        "id": "Kx7de57_bWrk",
        "outputId": "ffb6c2d3-4be8-4477-9901-602e6b86ac7f"
      },
      "outputs": [],
      "source": [
        "%%capture\n",
        "!git clone https://github.com/qi2lab/merfish3d-analysis/\n",
        "%cd merfish3d-analysis\n",
        "!git checkout fix-install-script-for-numpy2-issue\n",
        "!pip install -e .\n",
        "!setup-colab"
      ]
    },
    {
      "cell_type": "markdown",
      "metadata": {
        "id": "XM7WWunkqPuE"
      },
      "source": [
        "## Download simulation data\n",
        "Roughly 1200 individual RNA molecules that are randomly distributed in space within a 41.6 𝜇m by 41.6 𝜇m by 15.0 𝜇m volume (x,y,z). The individual RNA molecules are imaged using a 16-bit Hamming Weight 4 Distance 4 codebook and a simulated microscope with realistic parameters and noise. The imaging simulation is performed in 8 rounds each with 3 channels, containg 2 MERFISH bits per round and a fidicual marker. Three simulations of the same RNA molecules are performed for three different axial steps sizes (0.315 𝜇m, 1.0 𝜇m, 1.5 𝜇m) to explore the impact of sufficent axial sampling when imaging."
      ]
    },
    {
      "cell_type": "code",
      "execution_count": null,
      "metadata": {
        "colab": {
          "base_uri": "https://localhost:8080/"
        },
        "id": "d16dbf9b",
        "outputId": "158999e8-f065-4043-b415-86c704092917"
      },
      "outputs": [],
      "source": [
        "%%capture\n",
        "import zipfile\n",
        "import os\n",
        "\n",
        "%cd /content/\n",
        "!gdown 1rRcV72oknYV2rL-etJzF1eRdWZJnKeuS\n",
        "\n",
        "# Destination path for the unzipped content\n",
        "unzip_destination = '/content/synthetic_data'\n",
        "\n",
        "# Create the destination directory if it doesn't exist\n",
        "os.makedirs(unzip_destination, exist_ok=True)\n",
        "\n",
        "# Unzip the file\n",
        "try:\n",
        "    with zipfile.ZipFile(\"/content/synthetic_data.zip\", 'r') as zip_ref:\n",
        "        zip_ref.extractall(unzip_destination)\n",
        "    print(f\"File unzipped successfully to {unzip_destination}\")\n",
        "except zipfile.BadZipFile:\n",
        "    print(\"Error: The downloaded file is not a valid zip file.\")\n",
        "except FileNotFoundError:\n",
        "    print(\"Error: The file /content/synthetic_data.zip was not found.\")\n",
        "except Exception as e:\n",
        "    print(f\"An error occurred during unzipping: {e}\")"
      ]
    },
    {
      "cell_type": "markdown",
      "metadata": {
        "id": "HdrMs1lj_Cwg"
      },
      "source": [
        "## Test merfish3d-analysis on randomly distributed RNA with 𝚫z=0.315 𝞵m.\n",
        "Because an axial spacing of 𝚫z=0.315 𝞵m is Shannon-Nyquist sampled for the objective (NA=1.35), here we decode in 3D. \n",
        "  \n",
        "The steps are:  \n",
        "1. Convert simulation data format to our (qi2lab) experimental format.\n",
        "2. Convert qi2lab format to `merfish3d-analysis` datastore.\n",
        "3. 3D deconvolution and 3D prediction of \"spot-like\" features in every bit.\n",
        "4. 3D decoding to find RNA molecules and filter to limit blank codewords as necessary.\n",
        "5. Calculate F1-score using ground truth RNA molecule locations."
      ]
    },
    {
      "cell_type": "code",
      "execution_count": null,
      "metadata": {
        "colab": {
          "base_uri": "https://localhost:8080/"
        },
        "id": "zoXQtmp3vY23",
        "outputId": "855d520a-d0a3-4672-b42c-0d1773738df7"
      },
      "outputs": [],
      "source": [
        "!sim-convert \"/content/synthetic_data/example_16bit_flat/0.315\"\n",
        "!sim-datastore \"/content/synthetic_data/example_16bit_flat/0.315/sim_acquisition\"\n",
        "!sim-preprocess \"/content/synthetic_data/example_16bit_flat/0.315/sim_acquisition\"\n",
        "!sim-decode \"/content/synthetic_data/example_16bit_flat/0.315/sim_acquisition\"\n",
        "!sim-f1score \"/content/synthetic_data/example_16bit_flat/0.315\""
      ]
    },
    {
      "cell_type": "markdown",
      "metadata": {},
      "source": [
        "## Display MERFISH data, ground truth RNA molecules, and decoded RNA molecules for 𝚫z=0.315 𝞵m.\n",
        "  \n",
        "For display purposes, we do not differentiate between RNA molecule identity here and just plot all molecules. For further exploration, we suggest using [`fishSCALE`](https://github.com/linnarsson-lab/FISHscale)."
      ]
    },
    {
      "cell_type": "code",
      "execution_count": null,
      "metadata": {},
      "outputs": [],
      "source": [
        "import os\n",
        "import numpy as np\n",
        "import pandas as pd\n",
        "import matplotlib.pyplot as plt\n",
        "from ipywidgets import IntSlider, Checkbox, HBox, VBox, interactive_output, FloatText, Button, Layout\n",
        "from IPython.display import display, clear_output\n",
        "from merfish3danalysis.qi2labDataStore import qi2labDataStore\n",
        "\n",
        "datastore = qi2labDataStore(\"/content/synthetic_data/example_16bit_flat/0.315/sim_acquisition\")\n",
        "bit_images = []\n",
        "\n",
        "for bit_idx in datastore.merfish_bits:\n",
        "    bit_images.append(datastore.load_local_registered_image(tile=0,bit=bit_idx,return_future=False))\n",
        "bit_images = np.asarray(bit_images,dtype=np.uint16)\n",
        "\n",
        "SPOTS_CSV = \"/content/synthetic_data/example_16bit_flat/0.315/GT_spots.csv\"\n",
        "\n",
        "# Optional: physical voxel sizes (dz, dy, dx). Leave as (1,1,1) if using pixel coords.\n",
        "voxel_size = np.asarray(datastore.voxel_size_zyx_um,dtype=np.float32)\n",
        "\n",
        "def compute_vmin_vmax(a, lo=1.0, hi=99.5):\n",
        "    # Handle empty / constant arrays gracefully\n",
        "    if not np.isfinite(a).any():\n",
        "        return 0.0, 1.0\n",
        "    p = np.percentile(a[np.isfinite(a)], (lo, hi))\n",
        "    if p[0] == p[1]:\n",
        "        return float(np.min(a)), float(np.max(a) if np.max(a) > np.min(a) else np.min(a)+1.0)\n",
        "    return float(p[0]), float(p[1])\n",
        "\n",
        "def precompute_projections(img_czyx: np.ndarray):\n",
        "    # img shape: (C, Z, Y, X)\n",
        "    C, Z, Y, X = img_czyx.shape\n",
        "    proj_xy = []  # (Y, X) max over Z\n",
        "    proj_xz = []  # (Z, X) max over Y\n",
        "    proj_yz = []  # (Z, Y) max over X\n",
        "    # Using np.max to keep simple; if your data are huge, consider np.nanmax or chunked compute.\n",
        "    for c in range(C):\n",
        "        vol = img_czyx[c]\n",
        "        proj_xy.append(np.max(vol, axis=0))\n",
        "        proj_xz.append(np.max(vol, axis=1))\n",
        "        proj_yz.append(np.max(vol, axis=2))\n",
        "    return proj_xy, proj_xz, proj_yz\n",
        "\n",
        "\n",
        "def load_spots(csv_path):\n",
        "    if csv_path is None or not os.path.exists(csv_path):\n",
        "        return None\n",
        "    df = pd.read_csv(csv_path)\n",
        "    required = {\"Z\", \"Y\", \"X\"}\n",
        "    if not required.issubset(df.columns.str.lower()):\n",
        "        # Try handle case-sensitive columns\n",
        "        cols = {c.lower(): c for c in df.columns}\n",
        "        if not required.issubset(cols.keys()):\n",
        "            raise ValueError(\"CSV must have columns: z, y, x\")\n",
        "        df = df.rename(columns={cols['Z']: 'z', cols['Y']: 'y', cols['X']: 'x'})\n",
        "    else:\n",
        "        df = df.rename(columns={c: c.lower() for c in df.columns})\n",
        "    return df[[\"z\", \"x\", \"y\"]].copy()\n",
        "\n",
        "def show_czyx_with_spots(img_czyx: np.ndarray,\n",
        "                         spots_df: pd.DataFrame | None = None,\n",
        "                         voxel_size=(1.0, 1.0, 1.0)):\n",
        "    C, Z, Y, X = img_czyx.shape\n",
        "    dz, dy, dx = voxel_size\n",
        "\n",
        "    # Precompute projections for responsiveness\n",
        "    proj_xy, proj_xz, proj_yz = precompute_projections(img_czyx)\n",
        "\n",
        "    # Pre-filter spots to be in-bounds and pre-scale for extents\n",
        "    if spots_df is not None and len(spots_df):\n",
        "        # Keep only points within volume bounds\n",
        "        in_bounds = (\n",
        "            (spots_df[\"z\"] >= 0) & (spots_df[\"z\"] < Z) &\n",
        "            (spots_df[\"y\"] >= 0) & (spots_df[\"y\"] < Y) &\n",
        "            (spots_df[\"x\"] >= 0) & (spots_df[\"x\"] < X)\n",
        "        )\n",
        "        spots = spots_df.loc[in_bounds].to_numpy(dtype=float)\n",
        "        offset = [\n",
        "            0, \n",
        "            1*bit_images[0,:].shape[1]/2*datastore.voxel_size_zyx_um[1],\n",
        "            1*bit_images[0,:].shape[2]/2*datastore.voxel_size_zyx_um[2]\n",
        "        ]\n",
        "        spots = spots + offset\n",
        "        sx = spots[:, 2]\n",
        "        sy = spots[:, 1]\n",
        "        sz = spots[:, 0]\n",
        "    else:\n",
        "        spots = None\n",
        "\n",
        "    # Figure & axes layout\n",
        "    fig, axes = plt.subplots(1, 3, figsize=(14, 4), constrained_layout=True)\n",
        "    ax_xy, ax_xz, ax_yz = axes\n",
        "\n",
        "    # Extents so scatters align with pixels (origin lower-left)\n",
        "    extent_xy = [0, X * dx, 0, Y * dy]   # x across, y up\n",
        "    extent_xz = [0, X * dx, 0, Z * dz]   # x across, z up\n",
        "    extent_yz = [0, Y * dy, 0, Z * dz]   # y across, z up\n",
        "\n",
        "    # Initial channel\n",
        "    c0 = 0\n",
        "    im_xy = ax_xy.imshow(proj_xy[c0], origin='lower', extent=extent_xy, interpolation='nearest')\n",
        "    im_xz = ax_xz.imshow(proj_xz[c0], origin='lower', extent=extent_xz, interpolation='nearest')\n",
        "    im_yz = ax_yz.imshow(proj_yz[c0], origin='lower', extent=extent_yz, interpolation='nearest')\n",
        "\n",
        "    # Titles & labels\n",
        "    ax_xy.set_title(\"XY (max over Z)\")\n",
        "    ax_xz.set_title(\"XZ (max over Y)\")\n",
        "    ax_yz.set_title(\"YZ (max over X)\")\n",
        "    ax_xy.set_xlabel(\"X\")\n",
        "    ax_xy.set_ylabel(\"Y\")\n",
        "    ax_xz.set_xlabel(\"X\")\n",
        "    ax_xz.set_ylabel(\"Z\")\n",
        "    ax_yz.set_xlabel(\"Y\")\n",
        "    ax_yz.set_ylabel(\"Z\")\n",
        "\n",
        "    # Robust contrast per view, per channel\n",
        "    def apply_contrast(ci):\n",
        "        vmin, vmax = compute_vmin_vmax(proj_xy[ci])\n",
        "        im_xy.set_clim(vmin, vmax)\n",
        "        vmin, vmax = compute_vmin_vmax(proj_xz[ci])\n",
        "        im_xz.set_clim(vmin, vmax)\n",
        "        vmin, vmax = compute_vmin_vmax(proj_yz[ci])\n",
        "        im_yz.set_clim(vmin, vmax)\n",
        "\n",
        "    apply_contrast(c0)\n",
        "\n",
        "    # Spot overlays\n",
        "    scat_xy = scat_xz = scat_yz = None\n",
        "    if spots is not None and len(spots):\n",
        "        scat_xy = ax_xy.scatter(sx, sy, s=10, marker='o', linewidths=0, alpha=0.6)\n",
        "        scat_xz = ax_xz.scatter(sx, sz, s=10, marker='o', linewidths=0, alpha=0.6)\n",
        "        scat_yz = ax_yz.scatter(sy, sz, s=10, marker='o', linewidths=0, alpha=0.6)\n",
        "\n",
        "    # Widgets\n",
        "    slider = IntSlider(description=\"Channel\", min=0, max=C-1, step=1, value=0, continuous_update=False)\n",
        "    toggle_spots = Checkbox(description=\"Show spots\", value=(spots is not None and len(spots) > 0))\n",
        "    dz_box = FloatText(description=\"dz\", value=dz, layout=Layout(width='120px'))\n",
        "    dy_box = FloatText(description=\"dy\", value=dy, layout=Layout(width='120px'))\n",
        "    dx_box = FloatText(description=\"dx\", value=dx, layout=Layout(width='120px'))\n",
        "    apply_vox_btn = Button(description=\"Apply voxel size\", layout=Layout(width='160px'))\n",
        "\n",
        "    def on_apply_vox_clicked(_btn):\n",
        "        # Update extents according to new voxel sizes\n",
        "        new_dz, new_dy, new_dx = float(dz_box.value), float(dy_box.value), float(dx_box.value)\n",
        "        im_xy.set_extent([0, X * new_dx, 0, Y * new_dy])\n",
        "        im_xz.set_extent([0, X * new_dx, 0, Z * new_dz])\n",
        "        im_yz.set_extent([0, Y * new_dy, 0, Z * new_dz])\n",
        "        # Update scatter coords (scaled) if present\n",
        "        if spots is not None and len(spots):\n",
        "            sx2, sy2, sz2 = spots[:, 2] * new_dx, spots[:, 1] * new_dy, spots[:, 0] * new_dz\n",
        "            if scat_xy: \n",
        "                scat_xy.set_offsets(np.c_[sx2, sy2])\n",
        "            if scat_xz: \n",
        "                scat_xz.set_offsets(np.c_[sx2, sz2])\n",
        "            if scat_yz: \n",
        "                scat_yz.set_offsets(np.c_[sy2, sz2])\n",
        "        fig.canvas.draw_idle()\n",
        "\n",
        "    apply_vox_btn.on_click(on_apply_vox_clicked)\n",
        "\n",
        "    def update(ci, show_spots):\n",
        "        im_xy.set_data(proj_xy[ci])\n",
        "        im_xz.set_data(proj_xz[ci])\n",
        "        im_yz.set_data(proj_yz[ci])\n",
        "        apply_contrast(ci)\n",
        "        # toggle visibility of scatters\n",
        "        if scat_xy: scat_xy.set_visible(show_spots)\n",
        "        if scat_xz: scat_xz.set_visible(show_spots)\n",
        "        if scat_yz: scat_yz.set_visible(show_spots)\n",
        "        fig.canvas.draw_idle()\n",
        "\n",
        "    out = interactive_output(update, {\"ci\": slider, \"show_spots\": toggle_spots})\n",
        "\n",
        "    controls = HBox([slider, toggle_spots, dx_box, dy_box, dz_box, apply_vox_btn])\n",
        "    display(VBox([controls, out]))\n",
        "    return fig\n",
        "\n",
        "spots_df = load_spots(SPOTS_CSV)\n",
        "\n",
        "# Show the viewer\n",
        "fig = show_czyx_with_spots(bit_images, spots_df=spots_df, voxel_size=voxel_size)\n",
        "plt.show()\n"
      ]
    },
    {
      "cell_type": "markdown",
      "metadata": {
        "id": "x8fU6ZcIBmFi"
      },
      "source": [
        "## Test merfish3d-analysis on randomly distributed RNA with 𝚫z=1.0 𝞵m.\n",
        "Because an axial spacing of 𝚫z=1.0 𝞵m is larger than Shannon-Nyquist sampling for the objective (NA=1.35), here we decode in plane-by-plane and then collapse spots in adajacent z planes.\n",
        "  \n",
        "The steps are:  \n",
        "1. Convert simulation data format to our (qi2lab) experimental format.\n",
        "2. Convert qi2lab format to `merfish3d-analysis` datastore.\n",
        "3. 2D deconvolution and 2D prediction of \"spot-like\" features plane-by-plane in every bit.\n",
        "4. 2D decoding to find RNA molecules plane-by-plane, then collapse indentical molecules in adajacent z-planes to one decoded moelcule, and filter to limit blank codewords as necessary.\n",
        "5. Calculate F1-score using ground truth RNA molecule locations.\n"
      ]
    },
    {
      "cell_type": "code",
      "execution_count": null,
      "metadata": {
        "id": "KGRsS_mzKY7r"
      },
      "outputs": [],
      "source": [
        "!sim-convert \"/content/synthetic_data/example_16bit_flat/1.0\"\n",
        "!sim-datastore \"/content/synthetic_data/example_16bit_flat/1.0/sim_acquisition\"\n",
        "!sim-preprocess \"/content/synthetic_data/example_16bit_flat/1.0/sim_acquisition\"\n",
        "!sim-decode \"/content/synthetic_data/example_16bit_flat/1.0/sim_acquisition\"\n",
        "!sim-f1score \"/content/synthetic_data/example_16bit_flat/1.0\""
      ]
    },
    {
      "cell_type": "markdown",
      "metadata": {
        "id": "HdHHR1OFTtub"
      },
      "source": [
        "## Test merfish3d-analysis on randomly distributed RNA with 𝚫z=1.5 𝞵m.\n",
        "Because an axial spacing of 𝚫z=1.5 𝞵m is larger than Shannon-Nyquist sampling for the objective (NA=1.35), here we decode in plane-by-plane and then collapse spots in adajacent z planes.\n",
        "  \n",
        "The steps are:  \n",
        "1. Convert simulation data format to our (qi2lab) experimental format.\n",
        "2. Convert qi2lab format to `merfish3d-analysis` datastore.\n",
        "3. 2D deconvolution and 2D prediction of \"spot-like\" features plane-by-plane in every bit.\n",
        "4. 2D decoding to find RNA molecules plane-by-plane, then collapse indentical molecules in adajacent z-planes to one decoded moelcule, and filter to limit blank codewords as necessary.\n",
        "5. Calculate F1-score using ground truth RNA molecule locations."
      ]
    },
    {
      "cell_type": "code",
      "execution_count": null,
      "metadata": {
        "id": "rFUI3C2ITvBM"
      },
      "outputs": [],
      "source": [
        "!sim-convert \"/content/synthetic_data/example_16bit_flat/1.5\"\n",
        "!sim-datastore \"/content/synthetic_data/example_16bit_flat/1.5/sim_acquisition\"\n",
        "!sim-preprocess \"/content/synthetic_data/example_16bit_flat/1.5/sim_acquisition\"\n",
        "!sim-decode \"/content/synthetic_data/example_16bit_flat/1.5/sim_acquisition\"\n",
        "!sim-f1score \"/content/synthetic_data/example_16bit_flat/1.5\""
      ]
    }
  ],
  "metadata": {
    "accelerator": "GPU",
    "colab": {
      "gpuType": "L4",
      "machine_shape": "hm",
      "provenance": []
    },
    "kernelspec": {
      "display_name": "Python 3",
      "name": "python3"
    },
    "language_info": {
      "name": "python"
    }
  },
  "nbformat": 4,
  "nbformat_minor": 0
}
