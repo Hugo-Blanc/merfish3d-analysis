{
  "cells": [
    {
      "cell_type": "markdown",
      "metadata": {
        "id": "a4BN9micq9Kq"
      },
      "source": [
        "# Test `merfish3d-analysis` on simulated MERFISH data\n",
        "The goal of this notebook is to show the performance of [`merfish3d-analysis`](https://github.com/QI2lab/merfish3d-analysis) on simulated MERFISH data. The output metric is the [F1-score](https://en.wikipedia.org/wiki/F-score) that determines how well `merfish3d-analysis` recovers the ground truth location and identity of the RNA molecules used to generate the simulation. We will use a single FOV with uniformly distributed RNA molecules. **Note:** `merfish3d-analysis` requires a GPU runtime and will not run without one.\n"
      ]
    },
    {
      "cell_type": "markdown",
      "metadata": {},
      "source": [
        "<table class=\"tfo-notebook-buttons\" align=\"left\">\n",
        "  <td>\n",
        "    <a target=\"_blank\" href=\"https://colab.research.google.com/github/QI2lab/merfish3d-analysis/blob/main/examples/notebooks/Simulated_uniform_molecules.ipynb\"><img src=\"https://www.tensorflow.org/images/colab_logo_32px.png\" />Run in Google Colab</a>\n",
        "  </td>\n",
        "  <td>\n",
        "    <a target=\"_blank\" href=\"https://github.com/QI2lab/merfish3d-analysis/blob/main/examples/notebooks/Simulated_uniform_molecules.ipynb\"><img src=\"https://www.tensorflow.org/images/GitHub-Mark-32px.png\" />View source on GitHub</a>\n",
        "  </td>\n",
        "</table>"
      ]
    },
    {
      "cell_type": "markdown",
      "metadata": {
        "id": "IWysaTrbp-bw"
      },
      "source": [
        "## Install `merfish3d-analysis`\n",
        "This is a modified version of the library that runs in Google Colab. It is missing visualization tools and the ability to automatically stitched tiled data."
      ]
    },
    {
      "cell_type": "code",
      "execution_count": null,
      "metadata": {
        "colab": {
          "base_uri": "https://localhost:8080/"
        },
        "id": "Kx7de57_bWrk",
        "outputId": "ffb6c2d3-4be8-4477-9901-602e6b86ac7f"
      },
      "outputs": [],
      "source": [
        "%%capture\n",
        "!git clone https://github.com/qi2lab/merfish3d-analysis/\n",
        "%cd merfish3d-analysis\n",
        "!git checkout fix-install-script-for-numpy2-issue\n",
        "!pip install -e .\n",
        "!setup-colab"
      ]
    },
    {
      "cell_type": "markdown",
      "metadata": {
        "id": "XM7WWunkqPuE"
      },
      "source": [
        "## Download simulation data\n",
        "Roughly 1200 individual RNA molecules that are uniformly distributed in space, using a 16-bit Hamming Weight 4 Distance 4 codebook. The imaging simulation is performed in 8 rounds, with 2 MERFISH bits per round and a fidicual marker, for three different axial steps sizes (0.315 𝜇m, 1.0 𝜇m, 1.5 𝜇m)."
      ]
    },
    {
      "cell_type": "code",
      "execution_count": null,
      "metadata": {
        "colab": {
          "base_uri": "https://localhost:8080/"
        },
        "id": "d16dbf9b",
        "outputId": "158999e8-f065-4043-b415-86c704092917"
      },
      "outputs": [],
      "source": [
        "%%capture\n",
        "import zipfile\n",
        "import os\n",
        "\n",
        "%cd /content/\n",
        "!gdown 1rRcV72oknYV2rL-etJzF1eRdWZJnKeuS\n",
        "\n",
        "# Destination path for the unzipped content\n",
        "unzip_destination = '/content/synthetic_data'\n",
        "\n",
        "# Create the destination directory if it doesn't exist\n",
        "os.makedirs(unzip_destination, exist_ok=True)\n",
        "\n",
        "# Unzip the file\n",
        "try:\n",
        "    with zipfile.ZipFile(\"/content/synthetic_data.zip\", 'r') as zip_ref:\n",
        "        zip_ref.extractall(unzip_destination)\n",
        "    print(f\"File unzipped successfully to {unzip_destination}\")\n",
        "except zipfile.BadZipFile:\n",
        "    print(\"Error: The downloaded file is not a valid zip file.\")\n",
        "except FileNotFoundError:\n",
        "    print(\"Error: The file /content/synthetic_data.zip was not found.\")\n",
        "except Exception as e:\n",
        "    print(f\"An error occurred during unzipping: {e}\")"
      ]
    },
    {
      "cell_type": "markdown",
      "metadata": {
        "id": "HdrMs1lj_Cwg"
      },
      "source": [
        "## Test merfish3d-analysis on uniformly distributed RNA with 𝚫z=0.315 𝞵m."
      ]
    },
    {
      "cell_type": "code",
      "execution_count": null,
      "metadata": {
        "colab": {
          "base_uri": "https://localhost:8080/"
        },
        "id": "zoXQtmp3vY23",
        "outputId": "855d520a-d0a3-4672-b42c-0d1773738df7"
      },
      "outputs": [],
      "source": [
        "!sim-convert \"/content/synthetic_data/example_16bit_flat/0.315\"\n",
        "!sim-datastore \"/content/synthetic_data/example_16bit_flat/0.315/sim_acquisition\"\n",
        "!sim-preprocess \"/content/synthetic_data/example_16bit_flat/0.315/sim_acquisition\"\n",
        "!sim-decode \"/content/synthetic_data/example_16bit_flat/0.315/sim_acquisition\"\n",
        "!sim-f1score \"/content/synthetic_data/example_16bit_flat/0.315\""
      ]
    },
    {
      "cell_type": "markdown",
      "metadata": {
        "id": "x8fU6ZcIBmFi"
      },
      "source": [
        "## Test merfish3d-analysis on uniformly distributed RNA with 𝚫z=1.0 𝞵m.\n",
        "\n"
      ]
    },
    {
      "cell_type": "code",
      "execution_count": null,
      "metadata": {
        "id": "KGRsS_mzKY7r"
      },
      "outputs": [],
      "source": [
        "!sim-convert \"/content/synthetic_data/example_16bit_flat/1.0\"\n",
        "!sim-datastore \"/content/synthetic_data/example_16bit_flat/1.0/sim_acquisition\"\n",
        "!sim-preprocess \"/content/synthetic_data/example_16bit_flat/1.0/sim_acquisition\"\n",
        "!sim-decode \"/content/synthetic_data/example_16bit_flat/1.0/sim_acquisition\"\n",
        "!sim-f1score \"/content/synthetic_data/example_16bit_flat/1.0\""
      ]
    },
    {
      "cell_type": "markdown",
      "metadata": {
        "id": "HdHHR1OFTtub"
      },
      "source": [
        "## Test merfish3d-analysis on uniformly distributed RNA with 𝚫z=1.5 𝞵m."
      ]
    },
    {
      "cell_type": "code",
      "execution_count": null,
      "metadata": {
        "id": "rFUI3C2ITvBM"
      },
      "outputs": [],
      "source": [
        "!sim-convert \"/content/synthetic_data/example_16bit_flat/1.5\"\n",
        "!sim-datastore \"/content/synthetic_data/example_16bit_flat/1.5/sim_acquisition\"\n",
        "!sim-preprocess \"/content/synthetic_data/example_16bit_flat/1.5/sim_acquisition\"\n",
        "!sim-decode \"/content/synthetic_data/example_16bit_flat/1.5/sim_acquisition\"\n",
        "!sim-f1score \"/content/synthetic_data/example_16bit_flat/1.5\""
      ]
    }
  ],
  "metadata": {
    "accelerator": "GPU",
    "colab": {
      "gpuType": "L4",
      "machine_shape": "hm",
      "provenance": []
    },
    "kernelspec": {
      "display_name": "Python 3",
      "name": "python3"
    },
    "language_info": {
      "name": "python"
    }
  },
  "nbformat": 4,
  "nbformat_minor": 0
}
