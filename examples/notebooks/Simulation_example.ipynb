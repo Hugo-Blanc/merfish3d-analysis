{
  "cells": [
    {
      "cell_type": "markdown",
      "metadata": {
        "id": "a4BN9micq9Kq"
      },
      "source": [
        "## Test decoding of simulated MERFISH data generated with different axial spacings.\n",
        "**Contributors**: Maxwell Schweiger, Steve Presse, Douglas Shepherd^  \n",
        "^douglas.shepherd@asu.edu\n",
        "\n",
        "The goal of this notebook is to show the performance of [`merfish3d-analysis`](https://github.com/QI2lab/merfish3d-analysis) on simulated MERFISH data. The output metric is the [F1-score](https://en.wikipedia.org/wiki/F-score) that determines how well `merfish3d-analysis` recovers the ground truth location and identity of the RNA molecules used to generate the simulation. We will use a single FOV with uniformly distributed RNA molecules. **Note:** `merfish3d-analysis` requires a GPU runtime and will not run without one."
      ]
    },
    {
      "cell_type": "markdown",
      "metadata": {
        "id": "KtObSxGoQ_Wk"
      },
      "source": [
        "<table class=\"tfo-notebook-buttons\" align=\"left\">\n",
        "  <td>\n",
        "    <a target=\"_blank\" href=\"https://colab.research.google.com/github/QI2lab/merfish3d-analysis/blob/main/examples/notebooks/Simulation_example.ipynb\"><img src=\"https://www.tensorflow.org/images/colab_logo_32px.png\" />Run in Google Colab</a>\n",
        "  </td>\n",
        "  <td>\n",
        "    <a target=\"_blank\" href=\"https://github.com/QI2lab/merfish3d-analysis/blob/main/examples/notebooks/Simulation_example.ipynb\"><img src=\"https://www.tensorflow.org/images/GitHub-Mark-32px.png\" />View source on GitHub</a>\n",
        "  </td>\n",
        "</table>"
      ]
    },
    {
      "cell_type": "markdown",
      "metadata": {
        "id": "IWysaTrbp-bw"
      },
      "source": [
        "## Install `merfish3d-analysis`\n",
        "This is a modified version of the library installation that allow it to run using Google Colab servers. It is missing visualization tools and the ability to automatically stitched tiled data.  \n",
        "  \n",
        "**Note:** This installation can take 5-10 minutes, because all of the RAPIDS.AI, pytorch, onnx, cupy, and CUDA libraries have to be validated for the correct versioning."
      ]
    },
    {
      "cell_type": "code",
      "execution_count": null,
      "metadata": {
        "id": "Kx7de57_bWrk"
      },
      "outputs": [],
      "source": [
        "%%capture\n",
        "!git clone https://github.com/qi2lab/merfish3d-analysis/\n",
        "%cd merfish3d-analysis\n",
        "%pip install -e .\n",
        "!setup-colab"
      ]
    },
    {
      "cell_type": "markdown",
      "metadata": {
        "id": "XM7WWunkqPuE"
      },
      "source": [
        "## Download simulation data\n",
        "Roughly 1200 individual RNA molecules that are randomly distributed in space within a 41.6 𝜇m by 41.6 𝜇m by 15.0 𝜇m volume (x,y,z). The individual RNA molecules are imaged using a 16-bit Hamming Weight 4 Distance 4 codebook and a simulated microscope with realistic parameters and noise. The imaging simulation is performed in 8 rounds each with 3 channels, containg 2 MERFISH bits per round and a fidicual marker. Three simulations of the same RNA molecules are performed for three different axial steps sizes (0.315 𝜇m, 1.0 𝜇m, 1.5 𝜇m) to explore the impact of sufficent axial sampling when imaging."
      ]
    },
    {
      "cell_type": "code",
      "execution_count": null,
      "metadata": {
        "id": "d16dbf9b"
      },
      "outputs": [],
      "source": [
        "%%capture\n",
        "import zipfile\n",
        "import os\n",
        "\n",
        "# Download data from Zenodo\n",
        "%cd /content/\n",
        "!wget \"https://zenodo.org/records/17274305/files/merfish3d_analysis-simulation.zip?download=1\" -O synthetic_data.zip\n",
        "\n",
        "# Destination path for the unzipped content\n",
        "unzip_destination = '/content/synthetic_data'\n",
        "\n",
        "# Create the destination directory if it doesn't exist\n",
        "os.makedirs(unzip_destination, exist_ok=True)\n",
        "\n",
        "# Unzip the file\n",
        "try:\n",
        "    with zipfile.ZipFile(\"/content/synthetic_data.zip\", 'r') as zip_ref:\n",
        "        zip_ref.extractall(unzip_destination)\n",
        "    print(f\"File unzipped successfully to {unzip_destination}\")\n",
        "except zipfile.BadZipFile:\n",
        "    print(\"Error: The downloaded file is not a valid zip file.\")\n",
        "except FileNotFoundError:\n",
        "    print(\"Error: The file /content/synthetic_data.zip was not found.\")\n",
        "except Exception as e:\n",
        "    print(f\"An error occurred during unzipping: {e}\")"
      ]
    },
    {
      "cell_type": "markdown",
      "metadata": {
        "id": "HdrMs1lj_Cwg"
      },
      "source": [
        "## Test merfish3d-analysis on randomly distributed RNA with 𝚫z=0.315 𝞵m.\n",
        "Because an axial spacing of 𝚫z=0.315 𝞵m is Shannon-Nyquist sampled for the objective (NA=1.35), here we decode in 3D.\n",
        "  \n",
        "The steps are:  \n",
        "1. Convert simulation data format to our (qi2lab) experimental format.\n",
        "2. Convert qi2lab format to `merfish3d-analysis` datastore.\n",
        "3. 3D deconvolution and 3D prediction of \"spot-like\" features in every bit.\n",
        "4. Self-optimize decoding parameters.\n",
        "5. 3D decoding to find RNA molecules and filter to limit blank codewords as necessary.\n",
        "6. Calculate F1-score using ground truth RNA molecule locations."
      ]
    },
    {
      "cell_type": "code",
      "execution_count": null,
      "metadata": {
        "colab": {
          "base_uri": "https://localhost:8080/"
        },
        "id": "zoXQtmp3vY23",
        "outputId": "687e780d-29dd-4485-80cf-7fc31975cb67"
      },
      "outputs": [],
      "source": [
        "!sim-convert \"/content/synthetic_data/merfish3d_analysis-simulation/example_16bit_flat/0.315\"\n",
        "!sim-datastore \"/content/synthetic_data/merfish3d_analysis-simulation/example_16bit_flat/0.315/sim_acquisition\"\n",
        "!sim-preprocess \"/content/synthetic_data/merfish3d_analysis-simulation/example_16bit_flat/0.315/sim_acquisition\"\n",
        "!sim-decode \"/content/synthetic_data/merfish3d_analysis-simulation/example_16bit_flat/0.315/sim_acquisition\"\n",
        "!sim-f1score \"/content/synthetic_data/merfish3d_analysis-simulation/example_16bit_flat/0.315\""
      ]
    },
    {
      "cell_type": "markdown",
      "metadata": {
        "id": "x8fU6ZcIBmFi"
      },
      "source": [
        "## Test merfish3d-analysis on randomly distributed RNA with 𝚫z=1.0 𝞵m.\n",
        "\n",
        "Because an axial spacing of 𝚫z=1.0 𝞵m is larger than Shannon-Nyquist sampling for the objective (NA=1.35), here we decode in plane-by-plane and then collapse spots in adajacent z planes.\n",
        "  \n",
        "The steps are:  \n",
        "1. Convert simulation data format to our (qi2lab) experimental format.\n",
        "2. Convert qi2lab format to `merfish3d-analysis` datastore.\n",
        "3. 2D deconvolution and 2D prediction of \"spot-like\" features plane-by-plane in every bit.\n",
        "4. Self-optimize decoding parameters.\n",
        "5. 2D decoding to find RNA molecules plane-by-plane, then collapse indentical molecules in adajacent z-planes to one decoded moelcule, and filter to limit blank codewords as necessary.\n",
        "6. Calculate F1-score using ground truth RNA molecule locations.\n"
      ]
    },
    {
      "cell_type": "code",
      "execution_count": null,
      "metadata": {
        "colab": {
          "base_uri": "https://localhost:8080/"
        },
        "id": "KGRsS_mzKY7r",
        "outputId": "3a4ec30f-f0c2-452d-b4b1-af116f98913e"
      },
      "outputs": [],
      "source": [
        "!sim-convert \"/content/synthetic_data/merfish3d_analysis-simulation/example_16bit_flat/1.0\"\n",
        "!sim-datastore \"/content/synthetic_data/merfish3d_analysis-simulation/example_16bit_flat/1.0/sim_acquisition\"\n",
        "!sim-preprocess \"/content/synthetic_data/merfish3d_analysis-simulation/example_16bit_flat/1.0/sim_acquisition\"\n",
        "!sim-decode \"/content/synthetic_data/merfish3d_analysis-simulation/example_16bit_flat/1.0/sim_acquisition\"\n",
        "!sim-f1score \"/content/synthetic_data/merfish3d_analysis-simulation/example_16bit_flat/1.0\""
      ]
    },
    {
      "cell_type": "markdown",
      "metadata": {
        "id": "HdHHR1OFTtub"
      },
      "source": [
        "## Test merfish3d-analysis on randomly distributed RNA with 𝚫z=1.5 𝞵m.\n",
        "Because an axial spacing of 𝚫z=1.5 𝞵m is larger than Shannon-Nyquist sampling for the objective (NA=1.35), here we decode in plane-by-plane and then collapse spots in adajacent z planes.\n",
        "  \n",
        "The steps are:  \n",
        "1. Convert simulation data format to our (qi2lab) experimental format.\n",
        "2. Convert qi2lab format to `merfish3d-analysis` datastore.\n",
        "3. 2D deconvolution and 2D prediction of \"spot-like\" features plane-by-plane in every bit.\n",
        "4. Self-optimize decoding parameters.\n",
        "5. 2D decoding to find RNA molecules plane-by-plane, then collapse indentical molecules in adajacent z-planes to one decoded moelcule, and filter to limit blank codewords as necessary.\n",
        "6. Calculate F1-score using ground truth RNA molecule locations."
      ]
    },
    {
      "cell_type": "code",
      "execution_count": null,
      "metadata": {
        "colab": {
          "base_uri": "https://localhost:8080/"
        },
        "id": "rFUI3C2ITvBM",
        "outputId": "18592245-7789-4ae4-f40c-d58c384cf9f3"
      },
      "outputs": [],
      "source": [
        "!sim-convert \"/content/synthetic_data/merfish3d_analysis-simulation/example_16bit_flat/1.5\"\n",
        "!sim-datastore \"/content/synthetic_data/merfish3d_analysis-simulation/example_16bit_flat/1.5/sim_acquisition\"\n",
        "!sim-preprocess \"/content/synthetic_data/merfish3d_analysis-simulation/example_16bit_flat/1.5/sim_acquisition\"\n",
        "!sim-decode \"/content/synthetic_data/merfish3d_analysis-simulation/example_16bit_flat/1.5/sim_acquisition\"\n",
        "!sim-f1score \"/content/synthetic_data/merfish3d_analysis-simulation/example_16bit_flat/1.5\""
      ]
    }
  ],
  "metadata": {
    "accelerator": "GPU",
    "colab": {
      "gpuType": "A100",
      "provenance": []
    },
    "kernelspec": {
      "display_name": "Python 3",
      "name": "python3"
    },
    "language_info": {
      "name": "python"
    }
  },
  "nbformat": 4,
  "nbformat_minor": 0
}
